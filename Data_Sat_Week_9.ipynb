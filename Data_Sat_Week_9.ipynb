{
 "cells": [
  {
   "cell_type": "markdown",
   "metadata": {},
   "source": [
    "## What is Probability\n",
    "Branch of mathematics that deals with the likelihood of events happening.\n",
    "Probaility 0 = event impossible\n",
    "Probaility 1 = event happening is certain\n",
    "Probaility 0.5 = event eqaully liely to happen as it is not to happen\n",
    "\n",
    "Experiment; Process that leads to one or more outcomes\n",
    "Outcome; Possible result of an experiment\n",
    "Event; a specific outcome or set of outcomes\n",
    "Sample space; Set of all possible outcomes"
   ]
  },
  {
   "cell_type": "markdown",
   "metadata": {},
   "source": [
    "### Probability of an event \n",
    "p(A)=No. of events/Total no. of outcomes"
   ]
  },
  {
   "cell_type": "code",
   "execution_count": null,
   "metadata": {},
   "outputs": [
    {
     "data": {
      "text/plain": [
       "0.16666666666666666"
      ]
     },
     "execution_count": 1,
     "metadata": {},
     "output_type": "execute_result"
    }
   ],
   "source": [
    "## Probability of Dice\n",
    "No_Of_Events=1\n",
    "Total_Outcomes=6\n",
    "\n",
    "Prob=No_Of_Events/Total_Outcomes\n",
    "Prob"
   ]
  },
  {
   "cell_type": "code",
   "execution_count": 4,
   "metadata": {},
   "outputs": [
    {
     "name": "stdout",
     "output_type": "stream",
     "text": [
      "The probability of getting a head is 0.5\n"
     ]
    }
   ],
   "source": [
    "## Probability of a coin\n",
    "No_Of_Events=1\n",
    "Total_Outcomes=2 # Two events head and tail\n",
    "\n",
    "Prob=No_Of_Events/Total_Outcomes\n",
    "print(f\"The probability of getting a head is {Prob}\")"
   ]
  },
  {
   "cell_type": "code",
   "execution_count": null,
   "metadata": {},
   "outputs": [
    {
     "name": "stdout",
     "output_type": "stream",
     "text": [
      "2\n"
     ]
    },
    {
     "data": {
      "text/plain": [
       "0.4"
      ]
     },
     "execution_count": 12,
     "metadata": {},
     "output_type": "execute_result"
    }
   ],
   "source": [
    "## Probability of picking  a picking a red ball\n",
    "Set_balls=['blue', 'red', 'green', 'white', 'red']\n",
    "\n",
    "#No. of values\n",
    "Sample=len(Set_balls)\n",
    "\n",
    "#Initialize\n",
    "count=0\n",
    "#For loop\n",
    "for i in Set_balls:\n",
    "    # If statement\n",
    "    if i==\"red\":\n",
    "        count+=1\n",
    "print (count)  \n",
    "\n",
    "Probabilty=count/Sample\n",
    "Probabilty      \n"
   ]
  },
  {
   "cell_type": "code",
   "execution_count": 11,
   "metadata": {},
   "outputs": [
    {
     "name": "stdout",
     "output_type": "stream",
     "text": [
      "The probability of getting a red ball is 0.4\n"
     ]
    }
   ],
   "source": [
    "Set_balls=['blue', 'red', 'green', 'white', 'red']\n",
    "event_red=2\n",
    "prob=event_red/len(Set_balls)\n",
    "print(f\"The probability of getting a red ball is {prob}\")"
   ]
  },
  {
   "cell_type": "markdown",
   "metadata": {},
   "source": [
    "Marginal prob- Probability of a single event occuring without considering any other events<BR>\n",
    "Joint Prob- Probability of two or more events occuring togetther<BR>\n",
    "Conditional Prob- The probability of an event occuring given another event has occured === P(A/B)=P(AnB)/P(B)\n"
   ]
  },
  {
   "cell_type": "markdown",
   "metadata": {},
   "source": [
    "Example;\n",
    "Bag of 20 marbles<br>\n",
    "-8 are red and smooth<br>\n",
    "-5 are red and rough<br>\n",
    "-4 are blue and smooth<br>\n",
    "-3 are blue and rough"
   ]
  },
  {
   "cell_type": "markdown",
   "metadata": {},
   "source": [
    "Marginal Probability<br>\n",
    "Probability of a red marble<br>\n",
    "Total=20<br>\n",
    "red=8+5=13<br>\n",
    "Prob=13/20<br>\n",
    "Probability of a smooth marble\n"
   ]
  },
  {
   "cell_type": "code",
   "execution_count": 13,
   "metadata": {},
   "outputs": [
    {
     "name": "stdout",
     "output_type": "stream",
     "text": [
      "The probability of a red marble is 0.65\n",
      "The probability of a red marble is 0.6\n"
     ]
    }
   ],
   "source": [
    "## Probability of a red marble\n",
    "Total=20\n",
    "Red=8+5\n",
    "Probabilty_red=Red/Total\n",
    "print(f\"The probability of a red marble is {Probabilty_red}\")\n",
    "\n",
    "##Probability of a smooth marble\n",
    "Total=20\n",
    "smooth=8+4\n",
    "Probabilty_smooth=smooth/Total\n",
    "print(f\"The probability of a red marble is {Probabilty_smooth}\")"
   ]
  },
  {
   "cell_type": "markdown",
   "metadata": {},
   "source": [
    "## Joint Probability\n",
    "Probabilty red and smooth"
   ]
  },
  {
   "cell_type": "code",
   "execution_count": 15,
   "metadata": {},
   "outputs": [
    {
     "name": "stdout",
     "output_type": "stream",
     "text": [
      "The probability of a red marble being smooth is 0.4\n"
     ]
    }
   ],
   "source": [
    "Red_smooth=8\n",
    "Total=20\n",
    "probability=Red_smooth/Total\n",
    "print(f\"The probability of a red marble being smooth is {probability}\")"
   ]
  },
  {
   "cell_type": "markdown",
   "metadata": {},
   "source": [
    "Example 2"
   ]
  },
  {
   "cell_type": "code",
   "execution_count": 16,
   "metadata": {},
   "outputs": [
    {
     "name": "stdout",
     "output_type": "stream",
     "text": [
      "The joint probability is 0.3333333333333333\n"
     ]
    }
   ],
   "source": [
    "sample_space={1,2,3,4,5,6}\n",
    "event_one={1,2,3}\n",
    "event_two={2,4,3}\n",
    "\n",
    "joint_probability=len([x for x in event_one if x in event_two])/len(sample_space)\n",
    "print (f\"The joint probability is {joint_probability}\")"
   ]
  },
  {
   "cell_type": "code",
   "execution_count": 17,
   "metadata": {},
   "outputs": [],
   "source": [
    "import pandas as pd"
   ]
  },
  {
   "cell_type": "code",
   "execution_count": 18,
   "metadata": {},
   "outputs": [],
   "source": [
    "Data_Diamond=pd.read_excel(\"diamonds_new (1).xlsx\")"
   ]
  },
  {
   "cell_type": "code",
   "execution_count": 20,
   "metadata": {},
   "outputs": [
    {
     "name": "stdout",
     "output_type": "stream",
     "text": [
      "0     SI2\n",
      "1     SI1\n",
      "2     VS1\n",
      "3     VS2\n",
      "4     SI2\n",
      "5    VVS1\n",
      "6     SI1\n",
      "Name: clarity, dtype: object\n"
     ]
    }
   ],
   "source": [
    "clarity=Data_Diamond[\"clarity\"]\n",
    "print(clarity.head(7))\n",
    "\n"
   ]
  },
  {
   "cell_type": "code",
   "execution_count": 21,
   "metadata": {},
   "outputs": [
    {
     "data": {
      "text/plain": [
       "0.17731824925816023"
      ]
     },
     "execution_count": 21,
     "metadata": {},
     "output_type": "execute_result"
    }
   ],
   "source": [
    "event_a=Data_Diamond[Data_Diamond['clarity']=='SI1']\n",
    "event_b=Data_Diamond[Data_Diamond['carat']>0.5]\n",
    "joint_event=Data_Diamond[(Data_Diamond['clarity']=='SI1')&(Data_Diamond['carat']>0.5)]\n",
    "joint_probability=len(joint_event)/len(Data_Diamond)\n",
    "joint_probability"
   ]
  }
 ],
 "metadata": {
  "kernelspec": {
   "display_name": "Python 3",
   "language": "python",
   "name": "python3"
  },
  "language_info": {
   "codemirror_mode": {
    "name": "ipython",
    "version": 3
   },
   "file_extension": ".py",
   "mimetype": "text/x-python",
   "name": "python",
   "nbconvert_exporter": "python",
   "pygments_lexer": "ipython3",
   "version": "3.9.13"
  }
 },
 "nbformat": 4,
 "nbformat_minor": 2
}
