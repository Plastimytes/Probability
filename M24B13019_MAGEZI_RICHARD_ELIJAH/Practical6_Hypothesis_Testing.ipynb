{
 "cells": [
  {
   "cell_type": "markdown",
   "metadata": {},
   "source": [
    "## HYPOTHESIS TESTING ##"
   ]
  },
  {
   "cell_type": "markdown",
   "metadata": {},
   "source": [
    "# MAGEZI RICHARD ELIJAH\n",
    "## M24B13/013\n",
    "### B27258\n"
   ]
  },
  {
   "cell_type": "markdown",
   "metadata": {},
   "source": [
    "* An assumption or idea, specifically a statistical claim about an unknown parameter.\n",
    "* Presumptive statement\n",
    "\n",
    "* Defining Hypotheses\n",
    "* Null hypothesis (H0): In statistics, the null hypothesis is a general statement or default position that there is no relationship/no effects/no difference between two measured cases or among groups. In other words, it is a basic assumption or made based on the problem knowledge.\n",
    "* Example using diamonds dataset: There is no relationship between carat and price\n",
    "\n",
    "* Alternative hypothesis (H1/Ha/HA): The alternative hypothesis is contrary to the null hypothesis. \n",
    "* Example: There is a relationship between carat and price."
   ]
  },
  {
   "cell_type": "markdown",
   "metadata": {},
   "source": [
    "        ## Key Terms of Hypothesis Testing\n",
    "\n",
    "* Level of significance(alpha): It refers to the degree of significance in which we accept or reject the null hypothesis. 100% accuracy is not possible for accepting a hypothesis, so we, therefore, select a level of significance that is usually 5%. \n",
    "\n",
    "* P-value: The P value, or calculated probability, is the probability of finding the observed/extreme results when the null hypothesis(H0) of a study-given problem is true. If your P-value is less than the chosen significance level then you reject the null hypothesis i.e. accept that your sample claims to support the alternative hypothesis.\n",
    "\n",
    "* Test Statistic: The test statistic is a numerical value calculated from sample data during a hypothesis test, used to determine whether to reject the null hypothesis. It is compared to a critical value or p-value to make decisions about the statistical significance of the observed results.\n",
    "\n",
    "* Critical value: The critical value in statistics is a threshold or cutoff point used to determine whether to reject the null hypothesis in a hypothesis test.\n",
    "* Degrees of freedom: Degrees of freedom are associated with the variability or freedom one has in estimating a parameter. The degrees of freedom are related to the sample size and determine the shape."
   ]
  },
  {
   "cell_type": "markdown",
   "metadata": {},
   "source": [
    "       ## Steps in hypothesis testing\n",
    "* 1. State and define null and alternative hypotheses\n",
    "* 2. Choose a significance level (usually alpha = 0.05 or 5%)\n",
    "* 3. Collect and analyse data\n",
    "* 4. Calculate the test statistic and corresponding p-value\n",
    "* 5. Make conclusions"
   ]
  },
  {
   "cell_type": "code",
   "execution_count": 3,
   "metadata": {},
   "outputs": [
    {
     "data": {
      "text/html": [
       "<div>\n",
       "<style scoped>\n",
       "    .dataframe tbody tr th:only-of-type {\n",
       "        vertical-align: middle;\n",
       "    }\n",
       "\n",
       "    .dataframe tbody tr th {\n",
       "        vertical-align: top;\n",
       "    }\n",
       "\n",
       "    .dataframe thead th {\n",
       "        text-align: right;\n",
       "    }\n",
       "</style>\n",
       "<table border=\"1\" class=\"dataframe\">\n",
       "  <thead>\n",
       "    <tr style=\"text-align: right;\">\n",
       "      <th></th>\n",
       "      <th>price</th>\n",
       "      <th>carat</th>\n",
       "      <th>cut</th>\n",
       "      <th>color</th>\n",
       "      <th>clarity</th>\n",
       "      <th>depth</th>\n",
       "      <th>table</th>\n",
       "      <th>x</th>\n",
       "      <th>y</th>\n",
       "      <th>z</th>\n",
       "    </tr>\n",
       "  </thead>\n",
       "  <tbody>\n",
       "    <tr>\n",
       "      <th>0</th>\n",
       "      <td>326</td>\n",
       "      <td>0.23</td>\n",
       "      <td>Ideal</td>\n",
       "      <td>E</td>\n",
       "      <td>SI2</td>\n",
       "      <td>61.5</td>\n",
       "      <td>55.0</td>\n",
       "      <td>3.95</td>\n",
       "      <td>3.98</td>\n",
       "      <td>2.43</td>\n",
       "    </tr>\n",
       "    <tr>\n",
       "      <th>1</th>\n",
       "      <td>326</td>\n",
       "      <td>0.21</td>\n",
       "      <td>Premium</td>\n",
       "      <td>E</td>\n",
       "      <td>SI1</td>\n",
       "      <td>59.8</td>\n",
       "      <td>61.0</td>\n",
       "      <td>3.89</td>\n",
       "      <td>3.84</td>\n",
       "      <td>2.31</td>\n",
       "    </tr>\n",
       "    <tr>\n",
       "      <th>2</th>\n",
       "      <td>327</td>\n",
       "      <td>0.23</td>\n",
       "      <td>Good</td>\n",
       "      <td>E</td>\n",
       "      <td>VS1</td>\n",
       "      <td>56.9</td>\n",
       "      <td>65.0</td>\n",
       "      <td>4.05</td>\n",
       "      <td>4.07</td>\n",
       "      <td>2.31</td>\n",
       "    </tr>\n",
       "    <tr>\n",
       "      <th>3</th>\n",
       "      <td>334</td>\n",
       "      <td>0.29</td>\n",
       "      <td>Premium</td>\n",
       "      <td>I</td>\n",
       "      <td>VS2</td>\n",
       "      <td>62.4</td>\n",
       "      <td>58.0</td>\n",
       "      <td>4.20</td>\n",
       "      <td>4.23</td>\n",
       "      <td>2.63</td>\n",
       "    </tr>\n",
       "    <tr>\n",
       "      <th>4</th>\n",
       "      <td>335</td>\n",
       "      <td>0.31</td>\n",
       "      <td>Good</td>\n",
       "      <td>J</td>\n",
       "      <td>SI2</td>\n",
       "      <td>63.3</td>\n",
       "      <td>58.0</td>\n",
       "      <td>4.34</td>\n",
       "      <td>4.35</td>\n",
       "      <td>2.75</td>\n",
       "    </tr>\n",
       "    <tr>\n",
       "      <th>...</th>\n",
       "      <td>...</td>\n",
       "      <td>...</td>\n",
       "      <td>...</td>\n",
       "      <td>...</td>\n",
       "      <td>...</td>\n",
       "      <td>...</td>\n",
       "      <td>...</td>\n",
       "      <td>...</td>\n",
       "      <td>...</td>\n",
       "      <td>...</td>\n",
       "    </tr>\n",
       "    <tr>\n",
       "      <th>53915</th>\n",
       "      <td>2757</td>\n",
       "      <td>0.72</td>\n",
       "      <td>Ideal</td>\n",
       "      <td>D</td>\n",
       "      <td>SI1</td>\n",
       "      <td>60.8</td>\n",
       "      <td>57.0</td>\n",
       "      <td>5.75</td>\n",
       "      <td>5.76</td>\n",
       "      <td>3.50</td>\n",
       "    </tr>\n",
       "    <tr>\n",
       "      <th>53916</th>\n",
       "      <td>2757</td>\n",
       "      <td>0.72</td>\n",
       "      <td>Good</td>\n",
       "      <td>D</td>\n",
       "      <td>SI1</td>\n",
       "      <td>63.1</td>\n",
       "      <td>55.0</td>\n",
       "      <td>5.69</td>\n",
       "      <td>5.75</td>\n",
       "      <td>3.61</td>\n",
       "    </tr>\n",
       "    <tr>\n",
       "      <th>53917</th>\n",
       "      <td>2757</td>\n",
       "      <td>0.70</td>\n",
       "      <td>Very Good</td>\n",
       "      <td>D</td>\n",
       "      <td>SI1</td>\n",
       "      <td>62.8</td>\n",
       "      <td>60.0</td>\n",
       "      <td>5.66</td>\n",
       "      <td>5.68</td>\n",
       "      <td>3.56</td>\n",
       "    </tr>\n",
       "    <tr>\n",
       "      <th>53918</th>\n",
       "      <td>2757</td>\n",
       "      <td>0.86</td>\n",
       "      <td>Premium</td>\n",
       "      <td>H</td>\n",
       "      <td>SI2</td>\n",
       "      <td>61.0</td>\n",
       "      <td>58.0</td>\n",
       "      <td>6.15</td>\n",
       "      <td>6.12</td>\n",
       "      <td>3.74</td>\n",
       "    </tr>\n",
       "    <tr>\n",
       "      <th>53919</th>\n",
       "      <td>2757</td>\n",
       "      <td>0.75</td>\n",
       "      <td>Ideal</td>\n",
       "      <td>D</td>\n",
       "      <td>SI2</td>\n",
       "      <td>62.2</td>\n",
       "      <td>55.0</td>\n",
       "      <td>5.83</td>\n",
       "      <td>5.87</td>\n",
       "      <td>3.64</td>\n",
       "    </tr>\n",
       "  </tbody>\n",
       "</table>\n",
       "<p>53920 rows × 10 columns</p>\n",
       "</div>"
      ],
      "text/plain": [
       "       price  carat        cut color clarity  depth  table     x     y     z\n",
       "0        326   0.23      Ideal     E     SI2   61.5   55.0  3.95  3.98  2.43\n",
       "1        326   0.21    Premium     E     SI1   59.8   61.0  3.89  3.84  2.31\n",
       "2        327   0.23       Good     E     VS1   56.9   65.0  4.05  4.07  2.31\n",
       "3        334   0.29    Premium     I     VS2   62.4   58.0  4.20  4.23  2.63\n",
       "4        335   0.31       Good     J     SI2   63.3   58.0  4.34  4.35  2.75\n",
       "...      ...    ...        ...   ...     ...    ...    ...   ...   ...   ...\n",
       "53915   2757   0.72      Ideal     D     SI1   60.8   57.0  5.75  5.76  3.50\n",
       "53916   2757   0.72       Good     D     SI1   63.1   55.0  5.69  5.75  3.61\n",
       "53917   2757   0.70  Very Good     D     SI1   62.8   60.0  5.66  5.68  3.56\n",
       "53918   2757   0.86    Premium     H     SI2   61.0   58.0  6.15  6.12  3.74\n",
       "53919   2757   0.75      Ideal     D     SI2   62.2   55.0  5.83  5.87  3.64\n",
       "\n",
       "[53920 rows x 10 columns]"
      ]
     },
     "execution_count": 3,
     "metadata": {},
     "output_type": "execute_result"
    }
   ],
   "source": [
    "#libraries\n",
    "import pandas as pd\n",
    "import numpy as np\n",
    "import scipy.stats as stats\n",
    "\n",
    "#Import datasets\n",
    "diamonds=pd.read_excel(\"diamonds_new.xlsx\")\n",
    "diamonds"
   ]
  },
  {
   "cell_type": "markdown",
   "metadata": {},
   "source": [
    "## Statistical tests to investigate"
   ]
  },
  {
   "cell_type": "markdown",
   "metadata": {},
   "source": [
    "**A. T-test**\n",
    "* Compares the mean of two different samples or groups when the sample size is ≤ 30 \n",
    "* Data should follow normal or Gaussian distribution\n",
    "* Different types of T-tests:"
   ]
  },
  {
   "cell_type": "markdown",
   "metadata": {},
   "source": [
    "**i. One Sample T-test:** \n",
    "* Used to compare the mean value of a sample with a known mean or average. \n",
    "* The null and alternative hypotheses of this T-test are as follows:\n",
    "* i. Null Hypothesis: μ = M\n",
    "* ii. Alternative Hypothesis: μ ≠ M\n",
    "* Where μ is the sample mean and M is the known mean/population mean."
   ]
  },
  {
   "cell_type": "code",
   "execution_count": 5,
   "metadata": {},
   "outputs": [
    {
     "name": "stdout",
     "output_type": "stream",
     "text": [
      "T-statistic: 3.323912287864602\n",
      "P-value: 0.00241310214420894\n",
      "50.19250857400527\n"
     ]
    }
   ],
   "source": [
    "#Let's generate a random dataset that meets the above assumptions\n",
    "import random\n",
    "# We will use random data for the samples and label them as 'a' and 'b' respectively\n",
    "a = [random.gauss(50, 20) for x in range(30)] #a variable with a list of 50\n",
    "b = [random.gauss(55, 15) for x in range(30)]\n",
    "\n",
    "#If we assume the population mean is 40\n",
    "#Null hypothesis is the sample mean = population mean(40)\n",
    "#alpha=0.05\n",
    "#Therefore, p<0.05 (reject null hypothesis)\n",
    "#Let's test it for sample a\n",
    "t_stat, p_value = stats.ttest_1samp(a, 40, axis=0)\n",
    "\n",
    "#Print the t-stat and the p-value\n",
    "print(\"T-statistic:\", t_stat)\n",
    "print(\"P-value:\", p_value)\n",
    "print(np.mean(a))"
   ]
  },
  {
   "cell_type": "markdown",
   "metadata": {},
   "source": [
    "*      Interpretation of the results: \n",
    "* The p-value is less than 0.05(signifance level) and the sample mean(50.19) is also ≠ population mean(40).\n",
    "* We reject the null hypothesis and accept the alternative hypothesis"
   ]
  },
  {
   "cell_type": "markdown",
   "metadata": {},
   "source": [
    "**ii. Independent Sample T-test or Two Sample T-test**\n",
    "* Null hypothesis: The means of samples are equal"
   ]
  },
  {
   "cell_type": "code",
   "execution_count": 7,
   "metadata": {},
   "outputs": [
    {
     "name": "stdout",
     "output_type": "stream",
     "text": [
      "T-statistic: -0.42146151000303733\n",
      "P-value: 0.6750024151067231\n",
      "50.19250857400527 52.15236256714354\n",
      "We can accept the null hypothesis\n"
     ]
    }
   ],
   "source": [
    "# Null hypothesis: mean of a = mean of b\n",
    "t_stat, p_value = stats.ttest_ind(a,b,equal_var = False)\n",
    "#print results\n",
    "print(\"T-statistic:\", t_stat)\n",
    "print(\"P-value:\", p_value)\n",
    "print(np.mean(a), np.mean(b))\n",
    "\n",
    "#We can also add an if/else function which is defined as such:  \n",
    "if p_value < 0.05:      \n",
    "    print(\" We can reject the null hypothesis\")  \n",
    "else:  \n",
    "    print(\"We can accept the null hypothesis\")  "
   ]
  },
  {
   "cell_type": "markdown",
   "metadata": {},
   "source": [
    "*      Interpretation of the results: \n",
    "* The p-value is greater than 0.05(signifance level) and the mean of a = mean of b\n",
    "* We accept the null hypothesis and reject the alternative hypothesis"
   ]
  },
  {
   "cell_type": "markdown",
   "metadata": {},
   "source": [
    "**iii. Dependent or Paired Sample T-test**\n",
    "* A substantial difference between two related variables is tested using a univariate test\n",
    "*  Null hypothesis: mean of b - mean of a = 0"
   ]
  },
  {
   "cell_type": "code",
   "execution_count": 8,
   "metadata": {},
   "outputs": [
    {
     "name": "stdout",
     "output_type": "stream",
     "text": [
      "T-statistic: -0.4337456828470809\n",
      "P-value: 0.6676828455083401\n",
      "-1.9598539931382746\n",
      "We can accept the null hypothesis\n"
     ]
    }
   ],
   "source": [
    "t_stat,p_value = stats.ttest_rel(a,b)\n",
    "#print results\n",
    "print(\"T-statistic:\", t_stat)\n",
    "print(\"P-value:\", p_value)\n",
    "print(np.mean(a) - np.mean(b))\n",
    "#Print conclusion\n",
    "if p_value < 0.05:      \n",
    "    print(\" We can reject the null hypothesis\")  \n",
    "else:  \n",
    "    print(\"We can accept the null hypothesis\") "
   ]
  },
  {
   "cell_type": "markdown",
   "metadata": {},
   "source": [
    "**B. Z-test**\n",
    "* Used to compare the difference between a sample and a known population mean or between the means of two independent samples. \n",
    "* Sample size is ≥ 30 and \n",
    "* The population standard deviation is known.\n",
    "* There are two different types of Z-test:\n",
    "* One-sample Z-test: Used to compare one sample mean with a known population mean.\n",
    "i. Null Hypothesis: μ = μ₀\n",
    "ii. Alternative Hypothesis: μ ≠ μ₀\n",
    "Where μ is the population mean and μ₀ is a specified value you compare with the population mean."
   ]
  },
  {
   "cell_type": "markdown",
   "metadata": {},
   "source": [
    "**i. One-sample Z-test**\n",
    "* Compares ones sample mean with a known population mean\n",
    "* Null hypothesis: μ = μ₀\n",
    "* Alternative Hypothesis: μ ≠ μ₀\n",
    "* Where μ is the population mean and μ₀ is a specified value you compare with the population mean."
   ]
  },
  {
   "cell_type": "code",
   "execution_count": 13,
   "metadata": {},
   "outputs": [
    {
     "name": "stdout",
     "output_type": "stream",
     "text": [
      "Z-statistic: 0.8059089168995973\n",
      "P-value: 0.4202953693934157\n",
      "200.1390453783929\n",
      "We can accept the null hypothesis\n"
     ]
    }
   ],
   "source": [
    "#Import the z-test library\n",
    "from statsmodels.stats.weightstats import ztest as ztest\n",
    "# Let's use the diamonds dataset\n",
    "# Let's assume the mean price of a diamond is 200 and the standard deviation 40\n",
    "#Specified value = 200\n",
    "#Standard deviation = 40\n",
    "# Range=53920 (testing hypothesis for the 53920 diamonds in the dataset)\n",
    "diamonds['price'] = [random.gauss(200, 40) for x in range(53920)]\n",
    "\n",
    "# One Sample Z-test for sample 'a'\n",
    "# Null Hypothesis: Mean of diamond price = 200 \n",
    "z_stat, p_value = ztest(diamonds['price'], value=200)\n",
    "\n",
    "#print results\n",
    "print(\"Z-statistic:\", z_stat)\n",
    "print(\"P-value:\", p_value)\n",
    "print(np.mean(diamonds['price']))\n",
    "\n",
    "#print conclusion\n",
    "if p_value < 0.05:      \n",
    "    print(\" We can reject the null hypothesis\")  \n",
    "else:  \n",
    "    print(\"We can accept the null hypothesis\") "
   ]
  },
  {
   "cell_type": "markdown",
   "metadata": {},
   "source": [
    "*     Interpretation of results:\n",
    "* We see that the mean price of the diamonds within the dataset is equal to the assumed mean price of 200"
   ]
  },
  {
   "cell_type": "markdown",
   "metadata": {},
   "source": [
    "**ii. Two Sample Z-Test**\n",
    "* Examines two independent data sets to determine whether or not the sample means of the two groups are identical.\n",
    "* Null Hypothesis: Mean of a = mean of b\n",
    "* Similar to the independent t-test\n",
    "* To carry this out you have to first check if the variables are independent\n",
    "* So let's use the Cancer dataset (medical dataframe) as the variable radius_mean amongst two different groups: patients with malignant and benign tumors (M and B)\n",
    "* Null hypothesis: Mean of radius_mean of malignant tumors = Mean of radius_mean of benign tumors"
   ]
  },
  {
   "cell_type": "code",
   "execution_count": 16,
   "metadata": {},
   "outputs": [],
   "source": [
    "#Import libraries\n",
    "from scipy import stats  \n",
    "from statsmodels.stats import weightstats as stests  \n",
    "\n",
    "#State null hypothesis:\n",
    "#Mean of radius_mean of malignant tumors = Mean of radius_mean of benign tumors\n",
    "#\n",
    "\n",
    "#Specify the groups\n",
    "M=medical[medical[\"diagnosis\"] == \"M\"].radius_mean\n",
    "B=medical[medical[\"diagnosis\"] == \"B\"].radius_mean"
   ]
  },
  {
   "cell_type": "code",
   "execution_count": 17,
   "metadata": {},
   "outputs": [
    {
     "name": "stdout",
     "output_type": "stream",
     "text": [
      "Z-statistic: 0.8059089168995973\n",
      "P-value: 1.0131691292988755e-142\n",
      "17.462830188679245 12.146523809523808\n",
      "We can reject the null hypothesis\n"
     ]
    }
   ],
   "source": [
    "#Run the two-sided z-test\n",
    "z_test ,p_value = stests.ztest(M, x2 = B, value = 0, alternative = 'two-sided')  \n",
    "\n",
    "#Print results\n",
    "print(\"Z-statistic:\", z_stat)\n",
    "print(\"P-value:\", p_value)\n",
    "print(np.mean(M), np.mean(B)) \n",
    "\n",
    "#Print conclusion \n",
    "if p_value < 0.05:  \n",
    "    print(\"We can reject the null hypothesis\")  \n",
    "else:  \n",
    "    print(\"We can accept the null hypothesis\")  "
   ]
  },
  {
   "cell_type": "markdown",
   "metadata": {},
   "source": [
    "*       Interpretation of results\n",
    "* Null hypothesis is rejected\n",
    "* Therefore, the mean of the radius_means of the tumors amongst Benign and Malignat groups are not equal"
   ]
  },
  {
   "cell_type": "markdown",
   "metadata": {},
   "source": [
    "## Further Reading ##\n",
    "* Hypothesis testing for Analysis of variance, or ANOVA or F-test\n",
    "* Hypothesis testing for Chisquare test\n",
    "* Hypothesis testing for Mann-Whitney U Test\n",
    "* Hypothesis testing for Shapiro-wilk's test\n",
    "* Hypothesis testing for Wilcoxon Signed-Rank Test\n",
    "* Hypothesis testing for Kruskal-Wallis H Test\n",
    "* Hypothesis testing for Kolmogorov–Smirnov test\n",
    "* Differences between parametric and non-parametric tests\n",
    "\n"
   ]
  },
  {
   "cell_type": "markdown",
   "metadata": {},
   "source": [
    "## Practice Exercise ##\n",
    "* Using the diamonds dataset, test the hypothesis that average price of all carat categories are the same."
   ]
  },
  {
   "cell_type": "markdown",
   "metadata": {},
   "source": [
    "# Hypothesis 1\n",
    "## Average price of all table categories are the same."
   ]
  },
  {
   "cell_type": "code",
   "execution_count": 6,
   "metadata": {},
   "outputs": [
    {
     "name": "stdout",
     "output_type": "stream",
     "text": [
      "[55.  61.  65.  58.  57.  56.  54.  62.  59.  63.  60.  55.3 69.  64.\n",
      " 56.4 52.  55.8 66.  70.  68.  67.  54.4 53.  57.1 53.6 54.8 54.2 54.9\n",
      " 56.7 53.9 57.8 54.1 55.1 51.  58.1 56.9 56.5 53.7 60.7 56.2 56.6 56.1\n",
      " 56.3 57.2 57.5 60.9 59.8 62.3 60.1 55.9 50.1 62.2 54.5 55.7 53.4 54.7\n",
      " 58.8 59.4 62.5 54.3 60.6 55.2 58.6 49.  50.  54.6 62.6 57.7 56.8 57.9\n",
      " 60.3 55.6 59.5 57.4 62.4 60.4 53.3 60.2 60.8 58.5 57.6 43.  59.9 63.5\n",
      " 57.3 61.4 58.3 55.4 58.2 53.5 59.7 55.5 58.7 53.8 59.1 53.2 59.3 61.1\n",
      " 51.6 95.  61.2 59.2 60.5 58.4 53.1 52.8 44.  61.3 61.9 61.8 59.6 61.5\n",
      " 58.9 64.3 62.8 71.  52.4 63.3 61.7 64.2 73.  65.4 63.4 62.1 79.  76.\n",
      " 61.6]\n"
     ]
    }
   ],
   "source": [
    "print(diamonds['table'].unique())"
   ]
  },
  {
   "cell_type": "code",
   "execution_count": 14,
   "metadata": {},
   "outputs": [
    {
     "name": "stdout",
     "output_type": "stream",
     "text": [
      "H-statistics also known as Krushal_Wallis H-test::1798.3451261087168,p_value: 1.464467845021479e-293\n",
      "We can reject the null hypothesis\n"
     ]
    }
   ],
   "source": [
    "#Testing the hypothesis that the average price of all carat categories are the same\n",
    "#Import scipy.stats\n",
    "import scipy.stats\n",
    "\n",
    "#Grouping the data using carat categories\n",
    "groups=[group['price'].values for name, group in diamonds.groupby(\"table\")]\n",
    "\n",
    "#ANOVA\n",
    "h_statistic, p_value_h1 =stats.kruskal(*groups)\n",
    "print(f'H-statistics also known as Krushal_Wallis H-test:{h_statistic},p_value: {p_value_h1}')\n",
    "\n",
    "#Print conclusion \n",
    "if p_value < 0.05:  \n",
    "    print(\"We can reject the null hypothesis\")  \n",
    "else:  \n",
    "    print(\"We can accept the null hypothesis\")  "
   ]
  },
  {
   "cell_type": "markdown",
   "metadata": {},
   "source": [
    "Null hypotheis is rejected which means that the statistical evidence shows that the data is inconsitent with the null hypothesis. The data shows that the pricing structure vaies based on the table category"
   ]
  },
  {
   "cell_type": "markdown",
   "metadata": {},
   "source": [
    "# Hypothesis 2\n",
    "## Average price of Premuim diamonds being 150"
   ]
  },
  {
   "cell_type": "code",
   "execution_count": 8,
   "metadata": {},
   "outputs": [
    {
     "data": {
      "text/html": [
       "<div>\n",
       "<style scoped>\n",
       "    .dataframe tbody tr th:only-of-type {\n",
       "        vertical-align: middle;\n",
       "    }\n",
       "\n",
       "    .dataframe tbody tr th {\n",
       "        vertical-align: top;\n",
       "    }\n",
       "\n",
       "    .dataframe thead th {\n",
       "        text-align: right;\n",
       "    }\n",
       "</style>\n",
       "<table border=\"1\" class=\"dataframe\">\n",
       "  <thead>\n",
       "    <tr style=\"text-align: right;\">\n",
       "      <th></th>\n",
       "      <th>price</th>\n",
       "      <th>carat</th>\n",
       "      <th>cut</th>\n",
       "      <th>color</th>\n",
       "      <th>clarity</th>\n",
       "      <th>depth</th>\n",
       "      <th>table</th>\n",
       "      <th>x</th>\n",
       "      <th>y</th>\n",
       "      <th>z</th>\n",
       "    </tr>\n",
       "  </thead>\n",
       "  <tbody>\n",
       "    <tr>\n",
       "      <th>1</th>\n",
       "      <td>326</td>\n",
       "      <td>0.21</td>\n",
       "      <td>Premium</td>\n",
       "      <td>E</td>\n",
       "      <td>SI1</td>\n",
       "      <td>59.8</td>\n",
       "      <td>61.0</td>\n",
       "      <td>3.89</td>\n",
       "      <td>3.84</td>\n",
       "      <td>2.31</td>\n",
       "    </tr>\n",
       "    <tr>\n",
       "      <th>3</th>\n",
       "      <td>334</td>\n",
       "      <td>0.29</td>\n",
       "      <td>Premium</td>\n",
       "      <td>I</td>\n",
       "      <td>VS2</td>\n",
       "      <td>62.4</td>\n",
       "      <td>58.0</td>\n",
       "      <td>4.20</td>\n",
       "      <td>4.23</td>\n",
       "      <td>2.63</td>\n",
       "    </tr>\n",
       "    <tr>\n",
       "      <th>12</th>\n",
       "      <td>345</td>\n",
       "      <td>0.20</td>\n",
       "      <td>Premium</td>\n",
       "      <td>E</td>\n",
       "      <td>SI2</td>\n",
       "      <td>60.2</td>\n",
       "      <td>62.0</td>\n",
       "      <td>3.79</td>\n",
       "      <td>3.75</td>\n",
       "      <td>2.27</td>\n",
       "    </tr>\n",
       "    <tr>\n",
       "      <th>13</th>\n",
       "      <td>345</td>\n",
       "      <td>0.32</td>\n",
       "      <td>Premium</td>\n",
       "      <td>E</td>\n",
       "      <td>I1</td>\n",
       "      <td>60.9</td>\n",
       "      <td>58.0</td>\n",
       "      <td>4.38</td>\n",
       "      <td>4.42</td>\n",
       "      <td>2.68</td>\n",
       "    </tr>\n",
       "    <tr>\n",
       "      <th>23</th>\n",
       "      <td>355</td>\n",
       "      <td>0.24</td>\n",
       "      <td>Premium</td>\n",
       "      <td>I</td>\n",
       "      <td>VS1</td>\n",
       "      <td>62.5</td>\n",
       "      <td>57.0</td>\n",
       "      <td>3.97</td>\n",
       "      <td>3.94</td>\n",
       "      <td>2.47</td>\n",
       "    </tr>\n",
       "    <tr>\n",
       "      <th>...</th>\n",
       "      <td>...</td>\n",
       "      <td>...</td>\n",
       "      <td>...</td>\n",
       "      <td>...</td>\n",
       "      <td>...</td>\n",
       "      <td>...</td>\n",
       "      <td>...</td>\n",
       "      <td>...</td>\n",
       "      <td>...</td>\n",
       "      <td>...</td>\n",
       "    </tr>\n",
       "    <tr>\n",
       "      <th>53908</th>\n",
       "      <td>2756</td>\n",
       "      <td>0.79</td>\n",
       "      <td>Premium</td>\n",
       "      <td>E</td>\n",
       "      <td>SI2</td>\n",
       "      <td>61.4</td>\n",
       "      <td>58.0</td>\n",
       "      <td>6.03</td>\n",
       "      <td>5.96</td>\n",
       "      <td>3.68</td>\n",
       "    </tr>\n",
       "    <tr>\n",
       "      <th>53910</th>\n",
       "      <td>2756</td>\n",
       "      <td>0.71</td>\n",
       "      <td>Premium</td>\n",
       "      <td>E</td>\n",
       "      <td>SI1</td>\n",
       "      <td>60.5</td>\n",
       "      <td>55.0</td>\n",
       "      <td>5.79</td>\n",
       "      <td>5.74</td>\n",
       "      <td>3.49</td>\n",
       "    </tr>\n",
       "    <tr>\n",
       "      <th>53911</th>\n",
       "      <td>2756</td>\n",
       "      <td>0.71</td>\n",
       "      <td>Premium</td>\n",
       "      <td>F</td>\n",
       "      <td>SI1</td>\n",
       "      <td>59.8</td>\n",
       "      <td>62.0</td>\n",
       "      <td>5.74</td>\n",
       "      <td>5.73</td>\n",
       "      <td>3.43</td>\n",
       "    </tr>\n",
       "    <tr>\n",
       "      <th>53914</th>\n",
       "      <td>2757</td>\n",
       "      <td>0.72</td>\n",
       "      <td>Premium</td>\n",
       "      <td>D</td>\n",
       "      <td>SI1</td>\n",
       "      <td>62.7</td>\n",
       "      <td>59.0</td>\n",
       "      <td>5.69</td>\n",
       "      <td>5.73</td>\n",
       "      <td>3.58</td>\n",
       "    </tr>\n",
       "    <tr>\n",
       "      <th>53918</th>\n",
       "      <td>2757</td>\n",
       "      <td>0.86</td>\n",
       "      <td>Premium</td>\n",
       "      <td>H</td>\n",
       "      <td>SI2</td>\n",
       "      <td>61.0</td>\n",
       "      <td>58.0</td>\n",
       "      <td>6.15</td>\n",
       "      <td>6.12</td>\n",
       "      <td>3.74</td>\n",
       "    </tr>\n",
       "  </tbody>\n",
       "</table>\n",
       "<p>13789 rows × 10 columns</p>\n",
       "</div>"
      ],
      "text/plain": [
       "       price  carat      cut color clarity  depth  table     x     y     z\n",
       "1        326   0.21  Premium     E     SI1   59.8   61.0  3.89  3.84  2.31\n",
       "3        334   0.29  Premium     I     VS2   62.4   58.0  4.20  4.23  2.63\n",
       "12       345   0.20  Premium     E     SI2   60.2   62.0  3.79  3.75  2.27\n",
       "13       345   0.32  Premium     E      I1   60.9   58.0  4.38  4.42  2.68\n",
       "23       355   0.24  Premium     I     VS1   62.5   57.0  3.97  3.94  2.47\n",
       "...      ...    ...      ...   ...     ...    ...    ...   ...   ...   ...\n",
       "53908   2756   0.79  Premium     E     SI2   61.4   58.0  6.03  5.96  3.68\n",
       "53910   2756   0.71  Premium     E     SI1   60.5   55.0  5.79  5.74  3.49\n",
       "53911   2756   0.71  Premium     F     SI1   59.8   62.0  5.74  5.73  3.43\n",
       "53914   2757   0.72  Premium     D     SI1   62.7   59.0  5.69  5.73  3.58\n",
       "53918   2757   0.86  Premium     H     SI2   61.0   58.0  6.15  6.12  3.74\n",
       "\n",
       "[13789 rows x 10 columns]"
      ]
     },
     "execution_count": 8,
     "metadata": {},
     "output_type": "execute_result"
    }
   ],
   "source": [
    "#Filtering out premium diamonds\n",
    "pre_diamonds=diamonds[diamonds[\"cut\"]==\"Premium\"]\n",
    "pre_diamonds"
   ]
  },
  {
   "cell_type": "code",
   "execution_count": 13,
   "metadata": {},
   "outputs": [
    {
     "name": "stdout",
     "output_type": "stream",
     "text": [
      "T_statistic: 119.73104883785925,p_value: 0.0\n",
      "We can reject the null hypothesis\n"
     ]
    }
   ],
   "source": [
    "t_statistic, p_value=stats.ttest_1samp(pre_diamonds[\"price\"],150)\n",
    "\n",
    "#The print statement\n",
    "print(f\"T_statistic: {t_statistic},p_value: {p_value}\")\n",
    "\n",
    "#Print conclusion \n",
    "if p_value < 0.05:  \n",
    "    print(\"We can reject the null hypothesis\")  \n",
    "else:  \n",
    "    print(\"We can accept the null hypothesis\")  "
   ]
  },
  {
   "cell_type": "markdown",
   "metadata": {},
   "source": [
    "The null hypothesis is rejected meaning that the average price of Premium diamonds is not equal to 150"
   ]
  }
 ],
 "metadata": {
  "kernelspec": {
   "display_name": "Python 3",
   "language": "python",
   "name": "python3"
  },
  "language_info": {
   "codemirror_mode": {
    "name": "ipython",
    "version": 3
   },
   "file_extension": ".py",
   "mimetype": "text/x-python",
   "name": "python",
   "nbconvert_exporter": "python",
   "pygments_lexer": "ipython3",
   "version": "3.10.5"
  }
 },
 "nbformat": 4,
 "nbformat_minor": 2
}
