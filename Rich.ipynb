{
 "cells": [
  {
   "cell_type": "markdown",
   "metadata": {},
   "source": [
    "# Statistical tests\n",
    "## Type 1 errors"
   ]
  },
  {
   "cell_type": "code",
   "execution_count": 1,
   "metadata": {},
   "outputs": [],
   "source": [
    "import pandas as pd\n",
    "import scipy as scp\n",
    "import seaborn as sns"
   ]
  },
  {
   "cell_type": "code",
   "execution_count": 2,
   "metadata": {},
   "outputs": [
    {
     "data": {
      "text/html": [
       "<div>\n",
       "<style scoped>\n",
       "    .dataframe tbody tr th:only-of-type {\n",
       "        vertical-align: middle;\n",
       "    }\n",
       "\n",
       "    .dataframe tbody tr th {\n",
       "        vertical-align: top;\n",
       "    }\n",
       "\n",
       "    .dataframe thead th {\n",
       "        text-align: right;\n",
       "    }\n",
       "</style>\n",
       "<table border=\"1\" class=\"dataframe\">\n",
       "  <thead>\n",
       "    <tr style=\"text-align: right;\">\n",
       "      <th></th>\n",
       "      <th>Name</th>\n",
       "      <th>Country</th>\n",
       "      <th>Industry</th>\n",
       "      <th>Net Worth (in billions)</th>\n",
       "      <th>Company</th>\n",
       "    </tr>\n",
       "  </thead>\n",
       "  <tbody>\n",
       "    <tr>\n",
       "      <th>0</th>\n",
       "      <td>Rob Walton</td>\n",
       "      <td>Mexico</td>\n",
       "      <td>Finance</td>\n",
       "      <td>8.50</td>\n",
       "      <td>Walmart</td>\n",
       "    </tr>\n",
       "    <tr>\n",
       "      <th>1</th>\n",
       "      <td>Sergey Brin</td>\n",
       "      <td>USA</td>\n",
       "      <td>Automotive</td>\n",
       "      <td>44.76</td>\n",
       "      <td>Google</td>\n",
       "    </tr>\n",
       "    <tr>\n",
       "      <th>2</th>\n",
       "      <td>Steve Ballmer</td>\n",
       "      <td>USA</td>\n",
       "      <td>Manufacturing</td>\n",
       "      <td>13.43</td>\n",
       "      <td>Koch Industries</td>\n",
       "    </tr>\n",
       "    <tr>\n",
       "      <th>3</th>\n",
       "      <td>Mukesh Ambani</td>\n",
       "      <td>USA</td>\n",
       "      <td>Technology</td>\n",
       "      <td>120.44</td>\n",
       "      <td>Google</td>\n",
       "    </tr>\n",
       "    <tr>\n",
       "      <th>4</th>\n",
       "      <td>Jim Walton</td>\n",
       "      <td>USA</td>\n",
       "      <td>Fashion</td>\n",
       "      <td>122.39</td>\n",
       "      <td>Walmart</td>\n",
       "    </tr>\n",
       "    <tr>\n",
       "      <th>...</th>\n",
       "      <td>...</td>\n",
       "      <td>...</td>\n",
       "      <td>...</td>\n",
       "      <td>...</td>\n",
       "      <td>...</td>\n",
       "    </tr>\n",
       "    <tr>\n",
       "      <th>995</th>\n",
       "      <td>Warren Buffett</td>\n",
       "      <td>USA</td>\n",
       "      <td>Retail</td>\n",
       "      <td>142.66</td>\n",
       "      <td>Facebook</td>\n",
       "    </tr>\n",
       "    <tr>\n",
       "      <th>996</th>\n",
       "      <td>Amancio Ortega</td>\n",
       "      <td>USA</td>\n",
       "      <td>Media</td>\n",
       "      <td>166.87</td>\n",
       "      <td>Walmart</td>\n",
       "    </tr>\n",
       "    <tr>\n",
       "      <th>997</th>\n",
       "      <td>Alice Walton</td>\n",
       "      <td>USA</td>\n",
       "      <td>Retail</td>\n",
       "      <td>30.44</td>\n",
       "      <td>Walmart</td>\n",
       "    </tr>\n",
       "    <tr>\n",
       "      <th>998</th>\n",
       "      <td>Amancio Ortega</td>\n",
       "      <td>Spain</td>\n",
       "      <td>Retail</td>\n",
       "      <td>163.18</td>\n",
       "      <td>Reliance Industries</td>\n",
       "    </tr>\n",
       "    <tr>\n",
       "      <th>999</th>\n",
       "      <td>Jim Walton</td>\n",
       "      <td>USA</td>\n",
       "      <td>Retail</td>\n",
       "      <td>186.94</td>\n",
       "      <td>Berkshire Hathaway</td>\n",
       "    </tr>\n",
       "  </tbody>\n",
       "</table>\n",
       "<p>1000 rows × 5 columns</p>\n",
       "</div>"
      ],
      "text/plain": [
       "               Name Country       Industry  Net Worth (in billions)  \\\n",
       "0        Rob Walton  Mexico        Finance                     8.50   \n",
       "1       Sergey Brin     USA     Automotive                    44.76   \n",
       "2     Steve Ballmer     USA  Manufacturing                    13.43   \n",
       "3     Mukesh Ambani     USA     Technology                   120.44   \n",
       "4        Jim Walton     USA        Fashion                   122.39   \n",
       "..              ...     ...            ...                      ...   \n",
       "995  Warren Buffett     USA         Retail                   142.66   \n",
       "996  Amancio Ortega     USA          Media                   166.87   \n",
       "997    Alice Walton     USA         Retail                    30.44   \n",
       "998  Amancio Ortega   Spain         Retail                   163.18   \n",
       "999      Jim Walton     USA         Retail                   186.94   \n",
       "\n",
       "                 Company  \n",
       "0                Walmart  \n",
       "1                 Google  \n",
       "2        Koch Industries  \n",
       "3                 Google  \n",
       "4                Walmart  \n",
       "..                   ...  \n",
       "995             Facebook  \n",
       "996              Walmart  \n",
       "997              Walmart  \n",
       "998  Reliance Industries  \n",
       "999   Berkshire Hathaway  \n",
       "\n",
       "[1000 rows x 5 columns]"
      ]
     },
     "execution_count": 2,
     "metadata": {},
     "output_type": "execute_result"
    }
   ],
   "source": [
    "#importing the csv file\n",
    "data_wealth=pd.read_csv(\"Top_1000_wealthiest_people.csv\")\n",
    "data_wealth"
   ]
  },
  {
   "cell_type": "markdown",
   "metadata": {},
   "source": [
    "Statistical tests relating to type 1 errors"
   ]
  },
  {
   "cell_type": "code",
   "execution_count": 8,
   "metadata": {},
   "outputs": [
    {
     "data": {
      "text/html": [
       "<div>\n",
       "<style scoped>\n",
       "    .dataframe tbody tr th:only-of-type {\n",
       "        vertical-align: middle;\n",
       "    }\n",
       "\n",
       "    .dataframe tbody tr th {\n",
       "        vertical-align: top;\n",
       "    }\n",
       "\n",
       "    .dataframe thead th {\n",
       "        text-align: right;\n",
       "    }\n",
       "</style>\n",
       "<table border=\"1\" class=\"dataframe\">\n",
       "  <thead>\n",
       "    <tr style=\"text-align: right;\">\n",
       "      <th></th>\n",
       "      <th>Name</th>\n",
       "      <th>Country</th>\n",
       "      <th>Industry</th>\n",
       "      <th>Net Worth (in billions)</th>\n",
       "      <th>Company</th>\n",
       "    </tr>\n",
       "  </thead>\n",
       "  <tbody>\n",
       "    <tr>\n",
       "      <th>0</th>\n",
       "      <td>Rob Walton</td>\n",
       "      <td>Mexico</td>\n",
       "      <td>Finance</td>\n",
       "      <td>8.50</td>\n",
       "      <td>Walmart</td>\n",
       "    </tr>\n",
       "    <tr>\n",
       "      <th>1</th>\n",
       "      <td>Sergey Brin</td>\n",
       "      <td>USA</td>\n",
       "      <td>Automotive</td>\n",
       "      <td>44.76</td>\n",
       "      <td>Google</td>\n",
       "    </tr>\n",
       "  </tbody>\n",
       "</table>\n",
       "</div>"
      ],
      "text/plain": [
       "          Name Country    Industry  Net Worth (in billions)  Company\n",
       "0   Rob Walton  Mexico     Finance                     8.50  Walmart\n",
       "1  Sergey Brin     USA  Automotive                    44.76   Google"
      ]
     },
     "execution_count": 8,
     "metadata": {},
     "output_type": "execute_result"
    }
   ],
   "source": [
    "were=data_wealth.head(2)\n",
    "were"
   ]
  },
  {
   "cell_type": "code",
   "execution_count": 3,
   "metadata": {},
   "outputs": [],
   "source": [
    "import scipy.stats as stats"
   ]
  },
  {
   "cell_type": "code",
   "execution_count": null,
   "metadata": {},
   "outputs": [
    {
     "name": "stdout",
     "output_type": "stream",
     "text": [
      "t-statistic: 29.295562042441457\n",
      "p-value: 1.1316975465884372e-136\n",
      "Reject the null hypothesis. The sample Networth is significantly different from the hypothesized mean.\n"
     ]
    }
   ],
   "source": [
    "\n",
    "#\n",
    "scores = data_wealth['Net Worth (in billions)']\n",
    "\n",
    "# Hypothesized population mean\n",
    "hypothesized_networth = 50\n",
    "\n",
    "# Perform a one-sample t-test\n",
    "t_stat, p_value = stats.ttest_1samp(scores, hypothesized_networth)\n",
    "\n",
    "# Print the results\n",
    "print(\"t-statistic:\", t_stat)\n",
    "print(\"p-value:\", p_value)\n",
    "\n",
    "# Interpret the results\n",
    "alpha = 0.05  # Significance level\n",
    "if p_value < alpha:\n",
    "    print(\"Reject the null hypothesis. The sample Networth is significantly different from the hypothesized mean.\")\n",
    "else:\n",
    "    print(\"Fail to reject the null hypothesis. There is no significant difference between the sample mean and the hypothesized mean.\")"
   ]
  },
  {
   "cell_type": "code",
   "execution_count": 19,
   "metadata": {},
   "outputs": [
    {
     "name": "stdout",
     "output_type": "stream",
     "text": [
      "t-statistic: 29.295562042441457\n",
      "p-value: 1.1316975465884372e-136\n",
      "Reject the null hypothesis. The sample Networth is significantly different from the hypothesized networth.\n"
     ]
    }
   ],
   "source": [
    "\n",
    "#Type 1 error maybe\n",
    "scores = data_wealth['Net Worth (in billions)']\n",
    "\n",
    "# Hypothesized population mean\n",
    "hypothesized_networth = 50\n",
    "\n",
    "# Perform a one-sample t-test\n",
    "t_stat, p_value = stats.ttest_1samp(scores, hypothesized_networth)\n",
    "\n",
    "# Print the results\n",
    "print(\"t-statistic:\", t_stat)\n",
    "print(\"p-value:\", p_value)\n",
    "\n",
    "# Interpret the results\n",
    "alpha = 0.15  # Significance level increased to 0.15 creates your type 1 error\n",
    "if p_value < alpha:\n",
    "    print(\"Reject the null hypothesis. The sample Networth is significantly different from the hypothesized networth.\")\n",
    "else:\n",
    "    print(\"Fail to reject the null hypothesis. There is no significant difference between the sample networth and the hypothesized networth.\")"
   ]
  },
  {
   "cell_type": "markdown",
   "metadata": {},
   "source": [
    "## USING THE DATA HEAD"
   ]
  },
  {
   "cell_type": "code",
   "execution_count": 25,
   "metadata": {},
   "outputs": [
    {
     "name": "stdout",
     "output_type": "stream",
     "text": [
      "t-statistic: -1.2890237175951462\n",
      "p-value: 0.420040303362666\n",
      "Reject the null hypothesis. The sample Networth is significantly different from the hypothesized mean.\n"
     ]
    }
   ],
   "source": [
    "#\n",
    "scores = were['Net Worth (in billions)']\n",
    "\n",
    "# Hypothesized population mean\n",
    "hypothesized_networth = 50\n",
    "\n",
    "# Perform a one-sample t-test\n",
    "t_stat, p_value = stats.ttest_1samp(scores, hypothesized_networth)\n",
    "\n",
    "# Print the results\n",
    "print(\"t-statistic:\", t_stat)\n",
    "print(\"p-value:\", p_value)\n",
    "\n",
    "# Interpret the results\n",
    "alpha = 0.5 # Significance level\n",
    "if p_value < alpha:\n",
    "    print(\"Reject the null hypothesis. The sample Networth is significantly different from the hypothesized mean.\")\n",
    "else:\n",
    "    print(\"Fail to reject the null hypothesis. There is no significant difference between the sample mean and the hypothesized mean.\")"
   ]
  }
 ],
 "metadata": {
  "kernelspec": {
   "display_name": "Python 3",
   "language": "python",
   "name": "python3"
  },
  "language_info": {
   "codemirror_mode": {
    "name": "ipython",
    "version": 3
   },
   "file_extension": ".py",
   "mimetype": "text/x-python",
   "name": "python",
   "nbconvert_exporter": "python",
   "pygments_lexer": "ipython3",
   "version": "3.9.13"
  }
 },
 "nbformat": 4,
 "nbformat_minor": 2
}
